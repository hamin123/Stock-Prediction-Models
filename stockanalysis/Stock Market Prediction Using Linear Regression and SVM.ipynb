{
 "cells": [
  {
   "cell_type": "code",
   "execution_count": 15,
   "id": "f8a63bc3",
   "metadata": {},
   "outputs": [],
   "source": [
    "import numpy as np\n",
    "import pandas as pd\n",
    "import matplotlib.pyplot as plt\n",
    "from sklearn.model_selection import train_test_split\n",
    "from sklearn.linear_model import LinearRegression\n",
    "from sklearn.linear_model import LogisticRegression\n",
    "from sklearn.tree import DecisionTreeRegressor \n",
    "from sklearn.metrics import mean_squared_error, r2_score \n",
    "from sklearn.linear_model import LassoCV\n",
    "from sklearn.linear_model import RidgeCV\n",
    "from sklearn.linear_model import SGDRegressor\n",
    "\n",
    "# Feature Scaling\n",
    "from sklearn.preprocessing import StandardScaler\n",
    "\n",
    "#Import scikit-learn metrics module for accuracy calculation\n",
    "from sklearn import metrics\n",
    "\n",
    "#import pandas_datareader.data as web\n",
    "import datetime as dt"
   ]
  },
  {
   "cell_type": "code",
   "execution_count": 16,
   "id": "9c00daa9",
   "metadata": {},
   "outputs": [],
   "source": [
    "from stockdata import prepare_stockdata\n",
    "from stock_classification import classification_drivers,stock_classifiers"
   ]
  },
  {
   "cell_type": "markdown",
   "id": "6747bffd",
   "metadata": {},
   "source": [
    "# Classification Comparison Experiment"
   ]
  },
  {
   "cell_type": "code",
   "execution_count": 17,
   "id": "0d270b3d",
   "metadata": {},
   "outputs": [
    {
     "name": "stderr",
     "output_type": "stream",
     "text": [
      "C:\\Users\\Hassan\\stockdata.py:44: FutureWarning: In a future version of pandas all arguments of DataFrame.drop except for the argument 'labels' will be keyword-only\n",
      "  X = np.array(df.drop(['Prediction'],1))\n",
      "C:\\Users\\Hassan\\stockdata.py:79: FutureWarning: In a future version of pandas all arguments of DataFrame.drop except for the argument 'labels' will be keyword-only\n",
      "  X_df = np.array(df.drop(['Prediction'],1))\n"
     ]
    },
    {
     "data": {
      "text/html": [
       "<div>\n",
       "<style scoped>\n",
       "    .dataframe tbody tr th:only-of-type {\n",
       "        vertical-align: middle;\n",
       "    }\n",
       "\n",
       "    .dataframe tbody tr th {\n",
       "        vertical-align: top;\n",
       "    }\n",
       "\n",
       "    .dataframe thead th {\n",
       "        text-align: right;\n",
       "    }\n",
       "</style>\n",
       "<table border=\"1\" class=\"dataframe\">\n",
       "  <thead>\n",
       "    <tr style=\"text-align: right;\">\n",
       "      <th></th>\n",
       "      <th>LDCP</th>\n",
       "      <th>Close</th>\n",
       "      <th>7DayAve</th>\n",
       "      <th>15DayAve</th>\n",
       "      <th>Day_Perc_Change</th>\n",
       "      <th>Prediction</th>\n",
       "    </tr>\n",
       "    <tr>\n",
       "      <th>Date</th>\n",
       "      <th></th>\n",
       "      <th></th>\n",
       "      <th></th>\n",
       "      <th></th>\n",
       "      <th></th>\n",
       "      <th></th>\n",
       "    </tr>\n",
       "  </thead>\n",
       "  <tbody>\n",
       "    <tr>\n",
       "      <th>2021-12-15</th>\n",
       "      <td>96.47</td>\n",
       "      <td>103.70</td>\n",
       "      <td>94.612857</td>\n",
       "      <td>89.654667</td>\n",
       "      <td>7.494558</td>\n",
       "      <td>107.82</td>\n",
       "    </tr>\n",
       "    <tr>\n",
       "      <th>2021-12-16</th>\n",
       "      <td>103.70</td>\n",
       "      <td>107.82</td>\n",
       "      <td>97.561429</td>\n",
       "      <td>90.922667</td>\n",
       "      <td>3.972999</td>\n",
       "      <td>106.43</td>\n",
       "    </tr>\n",
       "    <tr>\n",
       "      <th>2021-12-17</th>\n",
       "      <td>107.82</td>\n",
       "      <td>106.43</td>\n",
       "      <td>99.378571</td>\n",
       "      <td>92.189333</td>\n",
       "      <td>-1.289186</td>\n",
       "      <td>114.41</td>\n",
       "    </tr>\n",
       "    <tr>\n",
       "      <th>2021-12-20</th>\n",
       "      <td>106.43</td>\n",
       "      <td>114.41</td>\n",
       "      <td>102.144286</td>\n",
       "      <td>93.808000</td>\n",
       "      <td>7.497886</td>\n",
       "      <td>116.24</td>\n",
       "    </tr>\n",
       "    <tr>\n",
       "      <th>2021-12-21</th>\n",
       "      <td>114.41</td>\n",
       "      <td>116.24</td>\n",
       "      <td>104.972857</td>\n",
       "      <td>95.748667</td>\n",
       "      <td>1.599511</td>\n",
       "      <td>117.53</td>\n",
       "    </tr>\n",
       "    <tr>\n",
       "      <th>2021-12-22</th>\n",
       "      <td>116.24</td>\n",
       "      <td>117.53</td>\n",
       "      <td>108.942857</td>\n",
       "      <td>97.694000</td>\n",
       "      <td>1.109773</td>\n",
       "      <td>124.35</td>\n",
       "    </tr>\n",
       "    <tr>\n",
       "      <th>2021-12-23</th>\n",
       "      <td>117.53</td>\n",
       "      <td>124.35</td>\n",
       "      <td>112.925714</td>\n",
       "      <td>100.535333</td>\n",
       "      <td>5.802774</td>\n",
       "      <td>118.40</td>\n",
       "    </tr>\n",
       "    <tr>\n",
       "      <th>2021-12-24</th>\n",
       "      <td>124.35</td>\n",
       "      <td>118.40</td>\n",
       "      <td>115.025714</td>\n",
       "      <td>103.238000</td>\n",
       "      <td>-4.784881</td>\n",
       "      <td>112.97</td>\n",
       "    </tr>\n",
       "    <tr>\n",
       "      <th>2021-12-27</th>\n",
       "      <td>118.40</td>\n",
       "      <td>112.97</td>\n",
       "      <td>115.761429</td>\n",
       "      <td>105.362667</td>\n",
       "      <td>-4.586149</td>\n",
       "      <td>106.00</td>\n",
       "    </tr>\n",
       "    <tr>\n",
       "      <th>2021-12-28</th>\n",
       "      <td>112.97</td>\n",
       "      <td>106.00</td>\n",
       "      <td>115.700000</td>\n",
       "      <td>106.617333</td>\n",
       "      <td>-6.169780</td>\n",
       "      <td>NaN</td>\n",
       "    </tr>\n",
       "  </tbody>\n",
       "</table>\n",
       "</div>"
      ],
      "text/plain": [
       "              LDCP   Close     7DayAve    15DayAve  Day_Perc_Change  \\\n",
       "Date                                                                  \n",
       "2021-12-15   96.47  103.70   94.612857   89.654667         7.494558   \n",
       "2021-12-16  103.70  107.82   97.561429   90.922667         3.972999   \n",
       "2021-12-17  107.82  106.43   99.378571   92.189333        -1.289186   \n",
       "2021-12-20  106.43  114.41  102.144286   93.808000         7.497886   \n",
       "2021-12-21  114.41  116.24  104.972857   95.748667         1.599511   \n",
       "2021-12-22  116.24  117.53  108.942857   97.694000         1.109773   \n",
       "2021-12-23  117.53  124.35  112.925714  100.535333         5.802774   \n",
       "2021-12-24  124.35  118.40  115.025714  103.238000        -4.784881   \n",
       "2021-12-27  118.40  112.97  115.761429  105.362667        -4.586149   \n",
       "2021-12-28  112.97  106.00  115.700000  106.617333        -6.169780   \n",
       "\n",
       "            Prediction  \n",
       "Date                    \n",
       "2021-12-15      107.82  \n",
       "2021-12-16      106.43  \n",
       "2021-12-17      114.41  \n",
       "2021-12-20      116.24  \n",
       "2021-12-21      117.53  \n",
       "2021-12-22      124.35  \n",
       "2021-12-23      118.40  \n",
       "2021-12-24      112.97  \n",
       "2021-12-27      106.00  \n",
       "2021-12-28         NaN  "
      ]
     },
     "execution_count": 17,
     "metadata": {},
     "output_type": "execute_result"
    }
   ],
   "source": [
    "path = \"D:\\\\Stock Data\\\\TRG.csv\"\n",
    "features = ['LDCP','Close']\n",
    "days_ahead = -1\n",
    "prp = prepare_stockdata()\n",
    "df,x_train, x_test, y_train, y_test,X_df = prp.preparation_driver(path,features,days_ahead)\n",
    "df.tail(10)\n"
   ]
  },
  {
   "cell_type": "code",
   "execution_count": 18,
   "id": "bd671c8d",
   "metadata": {},
   "outputs": [
    {
     "name": "stdout",
     "output_type": "stream",
     "text": [
      "[[118.4, 118.41, 115.02, 103.23, -4.78]]\n",
      "Linear Regression\n",
      " \n",
      "Linear Regression Confidence :  0.9791053935032767\n",
      "\n",
      "Random Forest\n",
      " \n",
      "model confidence:  -0.2640620485719616\n",
      "Mean Absolute Error: 29.90862171052632\n",
      "Mean Squared Error: 1238.3390843347042\n",
      "Root Mean Squared Error: 35.19004240313876\n",
      "\n",
      "Decision Tree\n",
      " \n",
      "model confidence:  -0.4569769683661551\n",
      "\n",
      "Lasso\n",
      " \n",
      "model confidence:  -0.2644372766547569\n",
      "\n",
      "Ridge\n",
      " \n",
      "model confidence:  -0.26240496348580256\n",
      "                   Predicted Value\n",
      "Linear Regression       116.382832\n",
      "Random Forest           156.277750\n",
      "Decision Tree           174.920000\n",
      "Lasso                   146.391941\n",
      "Ridge                   147.444085\n"
     ]
    }
   ],
   "source": [
    "inp = [[118.40,118.41,115.02,103.23,-4.78]]\n",
    "print(inp)\n",
    "clf = classification_drivers()\n",
    "result,lr,rf,dt,lasso_model,ridge_model = clf.cls_driver(x_train,y_train,inp)\n",
    "#lasso,lasso_pred=lasso_driver(x_train,x_test,inp)\n",
    "#print(lasso_pred)\n",
    "print(result)"
   ]
  },
  {
   "cell_type": "code",
   "execution_count": 9,
   "id": "84ee307c",
   "metadata": {},
   "outputs": [
    {
     "data": {
      "text/html": [
       "<div>\n",
       "<style scoped>\n",
       "    .dataframe tbody tr th:only-of-type {\n",
       "        vertical-align: middle;\n",
       "    }\n",
       "\n",
       "    .dataframe tbody tr th {\n",
       "        vertical-align: top;\n",
       "    }\n",
       "\n",
       "    .dataframe thead th {\n",
       "        text-align: right;\n",
       "    }\n",
       "</style>\n",
       "<table border=\"1\" class=\"dataframe\">\n",
       "  <thead>\n",
       "    <tr style=\"text-align: right;\">\n",
       "      <th></th>\n",
       "      <th>Close</th>\n",
       "      <th>Lasso</th>\n",
       "      <th>Ridge</th>\n",
       "      <th>RandomForest</th>\n",
       "      <th>DecisionTree</th>\n",
       "    </tr>\n",
       "    <tr>\n",
       "      <th>Date</th>\n",
       "      <th></th>\n",
       "      <th></th>\n",
       "      <th></th>\n",
       "      <th></th>\n",
       "      <th></th>\n",
       "    </tr>\n",
       "  </thead>\n",
       "  <tbody>\n",
       "    <tr>\n",
       "      <th>2021-12-15</th>\n",
       "      <td>103.70</td>\n",
       "      <td>142.393616</td>\n",
       "      <td>141.717963</td>\n",
       "      <td>125.79725</td>\n",
       "      <td>164.38</td>\n",
       "    </tr>\n",
       "    <tr>\n",
       "      <th>2021-12-16</th>\n",
       "      <td>107.82</td>\n",
       "      <td>142.393616</td>\n",
       "      <td>138.117213</td>\n",
       "      <td>165.43425</td>\n",
       "      <td>171.57</td>\n",
       "    </tr>\n",
       "    <tr>\n",
       "      <th>2021-12-17</th>\n",
       "      <td>106.43</td>\n",
       "      <td>142.393616</td>\n",
       "      <td>135.773514</td>\n",
       "      <td>167.28525</td>\n",
       "      <td>181.69</td>\n",
       "    </tr>\n",
       "    <tr>\n",
       "      <th>2021-12-20</th>\n",
       "      <td>114.41</td>\n",
       "      <td>142.393616</td>\n",
       "      <td>139.780381</td>\n",
       "      <td>119.48950</td>\n",
       "      <td>96.44</td>\n",
       "    </tr>\n",
       "    <tr>\n",
       "      <th>2021-12-21</th>\n",
       "      <td>116.24</td>\n",
       "      <td>142.393616</td>\n",
       "      <td>135.352168</td>\n",
       "      <td>163.24775</td>\n",
       "      <td>162.47</td>\n",
       "    </tr>\n",
       "    <tr>\n",
       "      <th>2021-12-22</th>\n",
       "      <td>117.53</td>\n",
       "      <td>142.393616</td>\n",
       "      <td>136.660012</td>\n",
       "      <td>168.20975</td>\n",
       "      <td>175.46</td>\n",
       "    </tr>\n",
       "    <tr>\n",
       "      <th>2021-12-23</th>\n",
       "      <td>124.35</td>\n",
       "      <td>142.393616</td>\n",
       "      <td>139.060166</td>\n",
       "      <td>157.92900</td>\n",
       "      <td>164.22</td>\n",
       "    </tr>\n",
       "    <tr>\n",
       "      <th>2021-12-24</th>\n",
       "      <td>118.40</td>\n",
       "      <td>142.393616</td>\n",
       "      <td>134.538611</td>\n",
       "      <td>114.63025</td>\n",
       "      <td>95.05</td>\n",
       "    </tr>\n",
       "    <tr>\n",
       "      <th>2021-12-27</th>\n",
       "      <td>112.97</td>\n",
       "      <td>142.393616</td>\n",
       "      <td>139.277409</td>\n",
       "      <td>137.81175</td>\n",
       "      <td>147.90</td>\n",
       "    </tr>\n",
       "    <tr>\n",
       "      <th>2021-12-28</th>\n",
       "      <td>106.00</td>\n",
       "      <td>142.393616</td>\n",
       "      <td>142.866678</td>\n",
       "      <td>133.49175</td>\n",
       "      <td>90.91</td>\n",
       "    </tr>\n",
       "  </tbody>\n",
       "</table>\n",
       "</div>"
      ],
      "text/plain": [
       "             Close       Lasso       Ridge  RandomForest  DecisionTree\n",
       "Date                                                                  \n",
       "2021-12-15  103.70  142.393616  141.717963     125.79725        164.38\n",
       "2021-12-16  107.82  142.393616  138.117213     165.43425        171.57\n",
       "2021-12-17  106.43  142.393616  135.773514     167.28525        181.69\n",
       "2021-12-20  114.41  142.393616  139.780381     119.48950         96.44\n",
       "2021-12-21  116.24  142.393616  135.352168     163.24775        162.47\n",
       "2021-12-22  117.53  142.393616  136.660012     168.20975        175.46\n",
       "2021-12-23  124.35  142.393616  139.060166     157.92900        164.22\n",
       "2021-12-24  118.40  142.393616  134.538611     114.63025         95.05\n",
       "2021-12-27  112.97  142.393616  139.277409     137.81175        147.90\n",
       "2021-12-28  106.00  142.393616  142.866678     133.49175         90.91"
      ]
     },
     "execution_count": 9,
     "metadata": {},
     "output_type": "execute_result"
    }
   ],
   "source": [
    "sc = StandardScaler()\n",
    "cls = stock_classifiers()\n",
    "X_df_sc = sc.fit_transform(X_df)\n",
    "rf_pred = cls.model_prediction(rf,X_df_sc)\n",
    "dt_pred = cls.model_prediction(dt,X_df)\n",
    "lasso_pred = cls.model_prediction(lasso_model,X_df)\n",
    "ridge_pred = cls.model_prediction(ridge_model,X_df)\n",
    "#print(rf_pred)\n",
    "df['RandomForest'] = rf_pred\n",
    "df['DecisionTree'] = dt_pred\n",
    "df['Lasso'] = lasso_pred\n",
    "df['Ridge'] = ridge_pred\n",
    "df[['Close','Lasso','Ridge','RandomForest','DecisionTree']].tail(10)"
   ]
  },
  {
   "cell_type": "code",
   "execution_count": 28,
   "id": "a972c313",
   "metadata": {},
   "outputs": [
    {
     "data": {
      "text/plain": [
       "<matplotlib.legend.Legend at 0x271947ac280>"
      ]
     },
     "execution_count": 28,
     "metadata": {},
     "output_type": "execute_result"
    },
    {
     "data": {
      "image/png": "[encoded data removed]",
      "text/plain": [
       "<Figure size 432x288 with 1 Axes>"
      ]
     },
     "metadata": {
      "needs_background": "light"
     },
     "output_type": "display_data"
    }
   ],
   "source": [
    "df['Close'].plot()\n",
    "#df['Prediction'].plot()\n",
    "df['RandomForest'].plot()\n",
    "df['DecisionTree'].plot()\n",
    "#df['15DayAve'].plot()\n",
    "#df['Avg.'].plot()\n",
    "plt.legend()"
   ]
  },
  {
   "cell_type": "code",
   "execution_count": 29,
   "id": "e6ee9f3a",
   "metadata": {},
   "outputs": [
    {
     "name": "stdout",
     "output_type": "stream",
     "text": [
      "Linear Regression Confidence :  0.9638977312972541\n"
     ]
    }
   ],
   "source": [
    "#Train the model\n",
    "lr = linear_regression(x_train,y_train)\n",
    "#Evaluate the model performance\n",
    "lr_score(lr,x_test,y_test)"
   ]
  },
  {
   "cell_type": "code",
   "execution_count": 25,
   "id": "65d38e0f",
   "metadata": {},
   "outputs": [
    {
     "name": "stdout",
     "output_type": "stream",
     "text": [
      "Predicted Next Day Value :  [116.39108299]\n"
     ]
    }
   ],
   "source": [
    "inp = [[108.00,114.41,114.41,102.144286,93.80800,7.497886]]\n",
    "lr_pred = model_prediction(lr,inp)\n",
    "print(\"Predicted Next Day Value : \", lr_pred)"
   ]
  },
  {
   "cell_type": "markdown",
   "id": "821743b9",
   "metadata": {},
   "source": [
    "# Support Vector Machine Experiment"
   ]
  },
  {
   "cell_type": "code",
   "execution_count": 26,
   "id": "51949b83",
   "metadata": {},
   "outputs": [
    {
     "name": "stdout",
     "output_type": "stream",
     "text": [
      "model confidence:  0.20892639903751353\n"
     ]
    },
    {
     "data": {
      "text/plain": [
       "0.20892639903751353"
      ]
     },
     "execution_count": 26,
     "metadata": {},
     "output_type": "execute_result"
    }
   ],
   "source": [
    "#Train the model\n",
    "model = svm(x_train,y_train)\n",
    "#Evaluate the model performance\n",
    "model_score(model,x_test,y_test)"
   ]
  },
  {
   "cell_type": "code",
   "execution_count": 27,
   "id": "08a7335c",
   "metadata": {},
   "outputs": [
    {
     "name": "stdout",
     "output_type": "stream",
     "text": [
      "Predicted Next Day Value :  [138.68497199]\n"
     ]
    }
   ],
   "source": [
    "inp = [[108.00,114.41,114.41,102.144286,93.80800,7.497886]]\n",
    "pred = model_prediction(model,inp)\n",
    "print(\"Predicted Next Day Value : \", pred)"
   ]
  },
  {
   "cell_type": "markdown",
   "id": "9fcbd0eb",
   "metadata": {},
   "source": [
    "## Decision Tree Experiment\n"
   ]
  },
  {
   "cell_type": "code",
   "execution_count": 30,
   "id": "154c225d",
   "metadata": {
    "scrolled": false
   },
   "outputs": [
    {
     "name": "stdout",
     "output_type": "stream",
     "text": [
      "model confidence:  0.9535625347820045\n"
     ]
    },
    {
     "data": {
      "text/plain": [
       "0.9535625347820045"
      ]
     },
     "execution_count": 30,
     "metadata": {},
     "output_type": "execute_result"
    }
   ],
   "source": [
    "#Train the model\n",
    "model = decision_tree(x_train,y_train)\n",
    "#Evaluate the model performance\n",
    "model_score(model,x_test,y_test)"
   ]
  },
  {
   "cell_type": "code",
   "execution_count": 31,
   "id": "9beab7bf",
   "metadata": {},
   "outputs": [
    {
     "name": "stdout",
     "output_type": "stream",
     "text": [
      "Predicted Next Day Value :  [118.39]\n"
     ]
    }
   ],
   "source": [
    "inp = [[108.00,114.41,114.41,102.144286,93.80800,7.497886]]\n",
    "lgr_pred = model_prediction(model,inp)\n",
    "print(\"Predicted Next Day Value : \", lgr_pred)"
   ]
  },
  {
   "cell_type": "markdown",
   "id": "7cb8c5f4",
   "metadata": {},
   "source": [
    "## Random Forest Regressor Experiment"
   ]
  },
  {
   "cell_type": "code",
   "execution_count": 161,
   "id": "4bd0d45b",
   "metadata": {},
   "outputs": [
    {
     "name": "stdout",
     "output_type": "stream",
     "text": [
      "model confidence:  0.9629027651223625\n",
      "Predicted Next Day Value for Random Forest :  [113.996]\n"
     ]
    },
    {
     "data": {
      "text/plain": [
       "array([113.996])"
      ]
     },
     "execution_count": 161,
     "metadata": {},
     "output_type": "execute_result"
    }
   ],
   "source": [
    "inp = [[108.00,114.41,114.41,102.144286,93.80800,7.497886]]\n",
    "randomforest_driver(x_train,x_test,inp)"
   ]
  },
  {
   "cell_type": "code",
   "execution_count": 146,
   "id": "ddc29222",
   "metadata": {},
   "outputs": [
    {
     "name": "stdout",
     "output_type": "stream",
     "text": [
      "Predicted Next Day Value :  [113.996]\n"
     ]
    }
   ],
   "source": [
    "inp = [[108.00,114.41,114.41,102.144286,93.80800,7.497886]]\n",
    "inp_sc = sc.transform(inp)\n",
    "rf_pred = model_prediction(rf,inp)\n",
    "print(\"Predicted Next Day Value : \", rf_pred)"
   ]
  },
  {
   "cell_type": "code",
   "execution_count": 147,
   "id": "1add0e87",
   "metadata": {},
   "outputs": [
    {
     "name": "stdout",
     "output_type": "stream",
     "text": [
      "Mean Absolute Error: 5.082050000000004\n",
      "Mean Squared Error: 45.59479467249999\n",
      "Root Mean Squared Error: 6.752391774216006\n"
     ]
    }
   ],
   "source": [
    "y_pred=rf.predict(x_test)\n",
    "\n",
    "#Import scikit-learn metrics module for accuracy calculation\n",
    "from sklearn import metrics\n",
    "\n",
    "print('Mean Absolute Error:', metrics.mean_absolute_error(y_test, y_pred))\n",
    "print('Mean Squared Error:', metrics.mean_squared_error(y_test, y_pred))\n",
    "print('Root Mean Squared Error:', np.sqrt(metrics.mean_squared_error(y_test, y_pred)))"
   ]
  },
  {
   "cell_type": "code",
   "execution_count": 35,
   "id": "f0bc3880",
   "metadata": {},
   "outputs": [
    {
     "name": "stdout",
     "output_type": "stream",
     "text": [
      "Linear Regression\n",
      " \n",
      "Linear Regression Confidence :  0.9730042100202486\n",
      "Linear Regression Predicted Next Day Value :  [116.39108299]\n",
      "\n",
      "Random Forest\n",
      " \n",
      "model confidence:  0.9785561255579437\n",
      "Mean Absolute Error: 3.2668900000000214\n",
      "Mean Squared Error: 21.044044777500105\n",
      "Root Mean Squared Error: 4.587378856983594\n",
      "Predicted Next Day Value for Random Forest :  [112.4945]\n",
      "\n",
      "Decision Tree\n",
      " \n",
      "model confidence:  0.9535625347820045\n",
      "Decision Tree Predicted Next Day Value :  [118.39]\n"
     ]
    }
   ],
   "source": []
  },
  {
   "cell_type": "code",
   "execution_count": null,
   "id": "87f4eb50",
   "metadata": {},
   "outputs": [],
   "source": []
  }
 ],
 "metadata": {
  "kernelspec": {
   "display_name": "Python 3 (ipykernel)",
   "language": "python",
   "name": "python3"
  },
  "language_info": {
   "codemirror_mode": {
    "name": "ipython",
    "version": 3
   },
   "file_extension": ".py",
   "mimetype": "text/x-python",
   "name": "python",
   "nbconvert_exporter": "python",
   "pygments_lexer": "ipython3",
   "version": "3.9.7"
  }
 },
 "nbformat": 4,
 "nbformat_minor": 5
}
